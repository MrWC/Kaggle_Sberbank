{
 "cells": [
  {
   "cell_type": "code",
   "execution_count": 1,
   "metadata": {
    "collapsed": false
   },
   "outputs": [
    {
     "name": "stderr",
     "output_type": "stream",
     "text": [
      "Using TensorFlow backend.\n"
     ]
    }
   ],
   "source": [
    "import os,sys\n",
    "os.environ[\"CUDA_VISIBLE_DEVICES\"] = \"3\"\n",
    "import pandas as pd\n",
    "import numpy as np\n",
    "import datetime, time, json\n",
    "import pickle\n",
    "\n",
    "from keras.models import Sequential\n",
    "from keras.layers import Dense, Dropout, Reshape, Merge, BatchNormalization, Activation, Convolution1D, MaxPooling1D\n",
    "from keras.regularizers import l2\n",
    "from keras.callbacks import Callback, ModelCheckpoint, EarlyStopping\n",
    "from keras import backend\n",
    "from keras import initializers\n",
    "from keras.optimizers import SGD"
   ]
  },
  {
   "cell_type": "code",
   "execution_count": 2,
   "metadata": {
    "collapsed": false
   },
   "outputs": [],
   "source": [
    "train_df = pd.read_csv(\"train_df_after_processing.csv\")"
   ]
  },
  {
   "cell_type": "code",
   "execution_count": 3,
   "metadata": {
    "collapsed": false
   },
   "outputs": [],
   "source": [
    "y_train = np.array(train_df['price_doc'])/100000\n",
    "x_train = np.array(train_df.drop(['id','price_doc'],axis=1))"
   ]
  },
  {
   "cell_type": "code",
   "execution_count": null,
   "metadata": {
    "collapsed": false
   },
   "outputs": [],
   "source": [
    "dropout = 0.2\n",
    "weights = initializers.RandomUniform(minval=-100, maxval=100, seed=2)\n",
    "bias = 'random_uniform'\n",
    "res_model_df = pd.DataFrame(columns=['n','mse','val_mse','time_used'])\n",
    "res_test_dict = {}\n",
    "\n",
    "for n in (500*2**n for n in range(1,9)):\n",
    "    model = Sequential()\n",
    "    model.add(Dense(n, activation='sigmoid', kernel_initializer=weights, bias_initializer=bias, input_shape=(x_train.shape[1],)))\n",
    "    model.add(Dropout(dropout))\n",
    "    # model.add(Dense(3000, activation='relu', kernel_initializer=weights, bias_initializer=bias))\n",
    "    model.add(Dense(1))\n",
    "\n",
    "    model.compile(loss='mean_squared_error', optimizer='adam', metrics=['mae'])\n",
    "\n",
    "    save_best_weights = str(n)+'_'+datetime.datetime.now().strftime(\"%Y-%m-%d_%H-%M\")+'_Sberbank_regression_weights.h5'\n",
    "\n",
    "    t0 = time.time()\n",
    "    callbacks = [ModelCheckpoint(save_best_weights, monitor='val_loss', save_best_only=True),EarlyStopping(monitor='val_loss', patience=20, verbose=1, mode='auto')]\n",
    "    # callbacks = [ModelCheckpoint(save_best_weights, monitor='val_loss', save_best_only=True)]\n",
    "    history = model.fit(x_train,\n",
    "                        y_train,\n",
    "                        batch_size=256,\n",
    "                        epochs=300, #Use 100, I reduce it for Kaggle,\n",
    "                        validation_split=0.15,\n",
    "                        verbose=True,\n",
    "                        shuffle=True,\n",
    "                        callbacks=callbacks)\n",
    "    time_used = round((time.time()-t0)/60,2)\n",
    "    print(\"Minutes elapsed: %f\" % time_used)\n",
    "    \n",
    "    # find best loss and record it\n",
    "    min_val_loss, idx = min((loss, idx) for (idx, loss) in enumerate(history.history['val_loss']))\n",
    "    res_model_df.loc[len(res_model_df)] = [n,min_val_loss,history.history['loss'][idx],time_used]\n",
    "\n",
    "    # Make predictions with the best weights\n",
    "    model.load_weights(save_best_weights)\n",
    "    predictions = model.predict(x_train[:,:], verbose = True)\n",
    "    predictions = predictions.flatten()\n",
    "    percentage = []\n",
    "    for i in range(len(predictions)):\n",
    "        percentage.append((predictions[i]-y_train[i])/y_train[i]*100)\n",
    "    result = np.array([predictions, y_train[:], percentage]).T\n",
    "    result_df = pd.DataFrame(result,columns = ['prediction','real value', 'error percentage'])\n",
    "    result_df.to_csv(str(n)+'_'+datetime.datetime.now().strftime(\"%Y-%m-%d_%H-%M\")+'_result.csv')\n",
    "    np.set_printoptions(precision=1)\n",
    "    print(result)\n",
    "    \n",
    "    res_test_dict[str(n)] = result_df"
   ]
  },
  {
   "cell_type": "code",
   "execution_count": null,
   "metadata": {
    "collapsed": true
   },
   "outputs": [],
   "source": [
    "res_dict = {}\n",
    "res_dict['res_model_df'] = res_model_df\n",
    "res_dict['res_test_dict'] = res_test_dict\n",
    "with open('Batch_Train_Test_Result.pickle', 'wb') as handle:\n",
    "    pickle.dump(res_dict, handle, protocol=pickle.HIGHEST_PROTOCOL)"
   ]
  }
 ],
 "metadata": {
  "kernelspec": {
   "display_name": "Python [conda env:py35]",
   "language": "python",
   "name": "conda-env-py35-py"
  },
  "language_info": {
   "codemirror_mode": {
    "name": "ipython",
    "version": 3
   },
   "file_extension": ".py",
   "mimetype": "text/x-python",
   "name": "python",
   "nbconvert_exporter": "python",
   "pygments_lexer": "ipython3",
   "version": "3.5.2"
  }
 },
 "nbformat": 4,
 "nbformat_minor": 2
}
