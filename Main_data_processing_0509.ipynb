{
 "cells": [
  {
   "cell_type": "code",
   "execution_count": null,
   "metadata": {
    "collapsed": true
   },
   "outputs": [],
   "source": [
    "import numpy as np # linear algebra\n",
    "import pandas as pd # data processing, CSV file I/O (e.g. pd.read_csv)\n",
    "import matplotlib.pyplot as plt\n",
    "import seaborn as sns\n",
    "import datetime \n",
    "%matplotlib inline\n",
    "\n",
    "train_df = pd.read_csv(\"train.csv\", parse_dates=['timestamp'])\n",
    "test_df = pd.read_csv(\"test.csv\")"
   ]
  },
  {
   "cell_type": "markdown",
   "metadata": {},
   "source": [
    "Quantify categorical columns"
   ]
  },
  {
   "cell_type": "code",
   "execution_count": null,
   "metadata": {
    "collapsed": false
   },
   "outputs": [],
   "source": [
    "string_dict = {'no data':-1, \n",
    "              'poor':0,\n",
    "              'satisfactory':1,\n",
    "              'good': 2,\n",
    "              'excellent':3,\n",
    "              'yes': 1,\n",
    "              'no': 0,\n",
    "              'Investment': 1,\n",
    "              'OwnerOccupier': 0}\n",
    "for key in [key for key in dict(train_df.dtypes) if dict(train_df.dtypes)[key] in ['O'] and key != 'sub_area']:\n",
    "    train_df[key] = train_df[key].map(string_dict)"
   ]
  },
  {
   "cell_type": "markdown",
   "metadata": {},
   "source": [
    "Add one column for each sub_area"
   ]
  },
  {
   "cell_type": "code",
   "execution_count": null,
   "metadata": {
    "collapsed": false
   },
   "outputs": [],
   "source": [
    "for area in train_df['sub_area'].unique():\n",
    "    train_df.insert(train_df.shape[1],'sub_area_'+area, 0)\n",
    "    train_df['sub_area_'+ area] = (train_df['sub_area'] == area).astype(int)\n",
    "    \n",
    "train_df = train_df.drop('sub_area', 1)"
   ]
  },
  {
   "cell_type": "markdown",
   "metadata": {},
   "source": [
    "Edit 'build_year'"
   ]
  },
  {
   "cell_type": "code",
   "execution_count": null,
   "metadata": {
    "collapsed": false
   },
   "outputs": [],
   "source": [
    "train_df.ix[train_df['build_year']==0,'build_year'] = None\n",
    "\n",
    "train_df['build_year'] = train_df['build_year'].apply(lambda x: 2017-x)"
   ]
  },
  {
   "cell_type": "markdown",
   "metadata": {},
   "source": [
    "Edit'timestamp' as days to date(2016,6,1)"
   ]
  },
  {
   "cell_type": "code",
   "execution_count": null,
   "metadata": {
    "collapsed": false
   },
   "outputs": [],
   "source": [
    "train_df['timestamp'] = train_df['timestamp'].apply(lambda x: (datetime.datetime(2016,6,1)-x).days)"
   ]
  },
  {
   "cell_type": "markdown",
   "metadata": {},
   "source": [
    "Normalization"
   ]
  },
  {
   "cell_type": "code",
   "execution_count": null,
   "metadata": {
    "collapsed": false
   },
   "outputs": [],
   "source": [
    "train_df_dscb = train_df.describe(percentiles=[.96])"
   ]
  },
  {
   "cell_type": "code",
   "execution_count": null,
   "metadata": {
    "collapsed": false
   },
   "outputs": [],
   "source": [
    "for col in [x for x in train_df_dscb.columns.values if x not in ['id', 'price_doc'] and x[0:9] != 'sub_area_']:\n",
    "    print(col)\n",
    "    train_df[col] = train_df.ix[:, col].apply(lambda x: (x-train_df_dscb[col]['min'])/(train_df_dscb[col]['96%']-train_df_dscb[col]['min']))"
   ]
  },
  {
   "cell_type": "markdown",
   "metadata": {},
   "source": [
    "Fill the null cells with -1"
   ]
  },
  {
   "cell_type": "code",
   "execution_count": null,
   "metadata": {
    "collapsed": false
   },
   "outputs": [],
   "source": [
    "train_df = train_df.fillna(-1)"
   ]
  },
  {
   "cell_type": "code",
   "execution_count": null,
   "metadata": {
    "collapsed": false
   },
   "outputs": [],
   "source": [
    "train_df.describe(percentiles=[.96])"
   ]
  },
  {
   "cell_type": "code",
   "execution_count": null,
   "metadata": {
    "collapsed": false
   },
   "outputs": [],
   "source": [
    "train_df_dscb"
   ]
  }
 ],
 "metadata": {
  "kernelspec": {
   "display_name": "Python [conda env:py35]",
   "language": "python",
   "name": "conda-env-py35-py"
  },
  "language_info": {
   "codemirror_mode": {
    "name": "ipython",
    "version": 3
   },
   "file_extension": ".py",
   "mimetype": "text/x-python",
   "name": "python",
   "nbconvert_exporter": "python",
   "pygments_lexer": "ipython3",
   "version": "3.5.2"
  }
 },
 "nbformat": 4,
 "nbformat_minor": 2
}
