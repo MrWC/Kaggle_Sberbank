{
 "cells": [
  {
   "cell_type": "code",
   "execution_count": 1,
   "metadata": {
    "collapsed": true
   },
   "outputs": [],
   "source": [
    "import numpy as np # linear algebra\n",
    "import pandas as pd # data processing, CSV file I/O (e.g. pd.read_csv)\n",
    "import matplotlib.pyplot as plt\n",
    "import seaborn as sns\n",
    "import datetime \n",
    "%matplotlib inline\n",
    "\n",
    "train_df = pd.read_csv(\"train.csv\", parse_dates=['timestamp'])\n",
    "test_df = pd.read_csv(\"test.csv\")"
   ]
  },
  {
   "cell_type": "markdown",
   "metadata": {},
   "source": [
    "Quantify categorical columns"
   ]
  },
  {
   "cell_type": "code",
   "execution_count": 2,
   "metadata": {
    "collapsed": false
   },
   "outputs": [],
   "source": [
    "string_dict = {'no data':-1, \n",
    "              'poor':0,\n",
    "              'satisfactory':1,\n",
    "              'good': 2,\n",
    "              'excellent':3,\n",
    "              'yes': 1,\n",
    "              'no': 0,\n",
    "              'Investment': 1,\n",
    "              'OwnerOccupier': 0}\n",
    "for key in [key for key in dict(train_df.dtypes) if dict(train_df.dtypes)[key] in ['O'] and key != 'sub_area']:\n",
    "    train_df[key] = train_df[key].map(string_dict)"
   ]
  },
  {
   "cell_type": "markdown",
   "metadata": {},
   "source": [
    "Add one column for each sub_area"
   ]
  },
  {
   "cell_type": "code",
   "execution_count": 3,
   "metadata": {
    "collapsed": false
   },
   "outputs": [],
   "source": [
    "for area in train_df['sub_area'].unique():\n",
    "    train_df.insert(train_df.shape[1],'sub_area_'+area, 0)\n",
    "    train_df['sub_area_'+ area] = (train_df['sub_area'] == area).astype(int)\n",
    "    \n",
    "train_df = train_df.drop('sub_area', 1)"
   ]
  },
  {
   "cell_type": "markdown",
   "metadata": {},
   "source": [
    "Edit 'build_year'"
   ]
  },
  {
   "cell_type": "code",
   "execution_count": 4,
   "metadata": {
    "collapsed": false
   },
   "outputs": [],
   "source": [
    "train_df.ix[train_df['build_year']==0,'build_year'] = None\n",
    "train_df['build_year'] = train_df['build_year'].apply(lambda x: 2017-x)"
   ]
  },
  {
   "cell_type": "markdown",
   "metadata": {},
   "source": [
    "Edit'timestamp' as days to date(2016,6,1)"
   ]
  },
  {
   "cell_type": "code",
   "execution_count": 5,
   "metadata": {
    "collapsed": false
   },
   "outputs": [],
   "source": [
    "train_df['timestamp'] = train_df['timestamp'].apply(lambda x: (datetime.datetime(2016,6,1)-x).days)\n",
    "train_df['price_doc'] = train_df['price_doc'].apply(lambda x: np.log(x))"
   ]
  },
  {
   "cell_type": "markdown",
   "metadata": {},
   "source": [
    "Normalization"
   ]
  },
  {
   "cell_type": "code",
   "execution_count": 6,
   "metadata": {
    "collapsed": false
   },
   "outputs": [
    {
     "name": "stdout",
     "output_type": "stream",
     "text": [
      "timestamp//full_sq//life_sq//floor//max_floor//material//build_year//num_room//kitch_sq//state//product_type//area_m//raion_popul//green_zone_part//indust_part//children_preschool//preschool_quota//preschool_education_centers_raion//children_school//school_quota//school_education_centers_raion//school_education_centers_top_20_raion//hospital_beds_raion//healthcare_centers_raion//university_top_20_raion//sport_objects_raion//additional_education_raion//culture_objects_top_25//culture_objects_top_25_raion//shopping_centers_raion//office_raion//thermal_power_plant_raion//incineration_raion//oil_chemistry_raion//radiation_raion//railroad_terminal_raion//big_market_raion//nuclear_reactor_raion//detention_facility_raion//full_all//male_f//female_f//young_all//young_male//young_female//work_all//work_male//work_female//ekder_all//ekder_male//ekder_female//0_6_all//0_6_male//0_6_female//7_14_all//7_14_male//7_14_female//0_17_all//0_17_male//0_17_female//16_29_all//16_29_male//16_29_female//0_13_all//0_13_male//0_13_female//raion_build_count_with_material_info//build_count_block//build_count_wood//build_count_frame//build_count_brick//build_count_monolith//build_count_panel//build_count_foam//build_count_slag//build_count_mix//raion_build_count_with_builddate_info//build_count_before_1920//build_count_1921-1945//build_count_1946-1970//build_count_1971-1995//build_count_after_1995//ID_metro//metro_min_avto//metro_km_avto//metro_min_walk//metro_km_walk//kindergarten_km//school_km//park_km//green_zone_km//industrial_km//water_treatment_km//cemetery_km//incineration_km//railroad_station_walk_km//railroad_station_walk_min//ID_railroad_station_walk//railroad_station_avto_km//railroad_station_avto_min//ID_railroad_station_avto//public_transport_station_km//public_transport_station_min_walk//water_km//water_1line//mkad_km//ttk_km//sadovoe_km//bulvar_ring_km//kremlin_km//big_road1_km//ID_big_road1//big_road1_1line//big_road2_km//ID_big_road2//railroad_km//railroad_1line//zd_vokzaly_avto_km//ID_railroad_terminal//bus_terminal_avto_km//ID_bus_terminal//oil_chemistry_km//nuclear_reactor_km//radiation_km//power_transmission_line_km//thermal_power_plant_km//ts_km//big_market_km//market_shop_km//fitness_km//swim_pool_km//ice_rink_km//stadium_km//basketball_km//hospice_morgue_km//detention_facility_km//public_healthcare_km//university_km//workplaces_km//shopping_centers_km//office_km//additional_education_km//preschool_km//big_church_km//church_synagogue_km//mosque_km//theater_km//museum_km//exhibition_km//catering_km//ecology//green_part_500//prom_part_500//office_count_500//office_sqm_500//trc_count_500//trc_sqm_500//cafe_count_500//cafe_sum_500_min_price_avg//cafe_sum_500_max_price_avg//cafe_avg_price_500//cafe_count_500_na_price//cafe_count_500_price_500//cafe_count_500_price_1000//cafe_count_500_price_1500//cafe_count_500_price_2500//cafe_count_500_price_4000//cafe_count_500_price_high//big_church_count_500//church_count_500//mosque_count_500//leisure_count_500//sport_count_500//market_count_500//green_part_1000//prom_part_1000//office_count_1000//office_sqm_1000//trc_count_1000//trc_sqm_1000//cafe_count_1000//cafe_sum_1000_min_price_avg//cafe_sum_1000_max_price_avg//cafe_avg_price_1000//cafe_count_1000_na_price//cafe_count_1000_price_500//cafe_count_1000_price_1000//cafe_count_1000_price_1500//cafe_count_1000_price_2500//cafe_count_1000_price_4000//cafe_count_1000_price_high//big_church_count_1000//church_count_1000//mosque_count_1000//leisure_count_1000//sport_count_1000//market_count_1000//green_part_1500//prom_part_1500//office_count_1500//office_sqm_1500//trc_count_1500//trc_sqm_1500//cafe_count_1500//cafe_sum_1500_min_price_avg//cafe_sum_1500_max_price_avg//cafe_avg_price_1500//cafe_count_1500_na_price//cafe_count_1500_price_500//cafe_count_1500_price_1000//cafe_count_1500_price_1500//cafe_count_1500_price_2500//cafe_count_1500_price_4000//cafe_count_1500_price_high//big_church_count_1500//church_count_1500//mosque_count_1500//leisure_count_1500//sport_count_1500//market_count_1500//green_part_2000//prom_part_2000//office_count_2000//office_sqm_2000//trc_count_2000//trc_sqm_2000//cafe_count_2000//cafe_sum_2000_min_price_avg//cafe_sum_2000_max_price_avg//cafe_avg_price_2000//cafe_count_2000_na_price//cafe_count_2000_price_500//cafe_count_2000_price_1000//cafe_count_2000_price_1500//cafe_count_2000_price_2500//cafe_count_2000_price_4000//cafe_count_2000_price_high//big_church_count_2000//church_count_2000//mosque_count_2000//leisure_count_2000//sport_count_2000//market_count_2000//green_part_3000//prom_part_3000//office_count_3000//office_sqm_3000//trc_count_3000//trc_sqm_3000//cafe_count_3000//cafe_sum_3000_min_price_avg//cafe_sum_3000_max_price_avg//cafe_avg_price_3000//cafe_count_3000_na_price//cafe_count_3000_price_500//cafe_count_3000_price_1000//cafe_count_3000_price_1500//cafe_count_3000_price_2500//cafe_count_3000_price_4000//cafe_count_3000_price_high//big_church_count_3000//church_count_3000//mosque_count_3000//leisure_count_3000//sport_count_3000//market_count_3000//green_part_5000//prom_part_5000//office_count_5000//office_sqm_5000//trc_count_5000//trc_sqm_5000//cafe_count_5000//cafe_sum_5000_min_price_avg//cafe_sum_5000_max_price_avg//cafe_avg_price_5000//cafe_count_5000_na_price//cafe_count_5000_price_500//cafe_count_5000_price_1000//cafe_count_5000_price_1500//cafe_count_5000_price_2500//cafe_count_5000_price_4000//cafe_count_5000_price_high//big_church_count_5000//church_count_5000//mosque_count_5000//leisure_count_5000//sport_count_5000//market_count_5000//price_doc//"
     ]
    }
   ],
   "source": [
    "train_df_dscb = train_df.describe(percentiles=[.96])\n",
    "\n",
    "for col in [x for x in train_df_dscb.columns.values if x not in ['id'] and x[0:9] != 'sub_area_']:\n",
    "    print(col, end='//')\n",
    "    train_df[col] = train_df.ix[:, col].apply(lambda x: (x-train_df_dscb[col]['min'])/(train_df_dscb[col]['96%']-train_df_dscb[col]['min']))"
   ]
  },
  {
   "cell_type": "markdown",
   "metadata": {},
   "source": [
    "Fill the null cells with -1"
   ]
  },
  {
   "cell_type": "code",
   "execution_count": 7,
   "metadata": {
    "collapsed": false
   },
   "outputs": [],
   "source": [
    "train_df = train_df.fillna(-1)"
   ]
  },
  {
   "cell_type": "markdown",
   "metadata": {},
   "source": [
    "Save processed data"
   ]
  },
  {
   "cell_type": "code",
   "execution_count": 8,
   "metadata": {
    "collapsed": false
   },
   "outputs": [],
   "source": [
    "train_df.to_csv(\"train_df_after_processing.csv\", index=False)\n",
    "train_df_dscb.to_csv(\"train_df_Normalization_bounds.csv\", index=False)"
   ]
  },
  {
   "cell_type": "code",
   "execution_count": 9,
   "metadata": {
    "collapsed": false
   },
   "outputs": [
    {
     "data": {
      "text/plain": [
       "count    30471.000000\n",
       "mean        15.609483\n",
       "std          0.604575\n",
       "min         11.512925\n",
       "50%         15.651990\n",
       "96%         16.556351\n",
       "max         18.526041\n",
       "Name: price_doc, dtype: float64"
      ]
     },
     "execution_count": 9,
     "metadata": {},
     "output_type": "execute_result"
    }
   ],
   "source": [
    "y_train = np.array(train_df.ix[:,'price_doc'])\n",
    "train_df_dscb['price_doc']"
   ]
  },
  {
   "cell_type": "code",
   "execution_count": 11,
   "metadata": {
    "collapsed": false
   },
   "outputs": [
    {
     "data": {
      "text/plain": [
       "count    30471.000000\n",
       "mean         0.812257\n",
       "std          0.119874\n",
       "min          0.000000\n",
       "25%          0.765080\n",
       "50%          0.820685\n",
       "75%          0.876159\n",
       "max          1.390546\n",
       "Name: price_doc, dtype: float64"
      ]
     },
     "execution_count": 11,
     "metadata": {},
     "output_type": "execute_result"
    }
   ],
   "source": [
    "train_df['price_doc'].describe()"
   ]
  }
 ],
 "metadata": {
  "kernelspec": {
   "display_name": "Python [conda env:py35]",
   "language": "python",
   "name": "conda-env-py35-py"
  },
  "language_info": {
   "codemirror_mode": {
    "name": "ipython",
    "version": 3
   },
   "file_extension": ".py",
   "mimetype": "text/x-python",
   "name": "python",
   "nbconvert_exporter": "python",
   "pygments_lexer": "ipython3",
   "version": "3.5.2"
  }
 },
 "nbformat": 4,
 "nbformat_minor": 2
}
